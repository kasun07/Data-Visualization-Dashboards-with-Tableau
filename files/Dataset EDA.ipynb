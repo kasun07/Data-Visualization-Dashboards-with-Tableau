{
 "cells": [
  {
   "cell_type": "code",
   "execution_count": 48,
   "metadata": {},
   "outputs": [],
   "source": [
    "import pandas as pd\n",
    "import numpy as np"
   ]
  },
  {
   "cell_type": "code",
   "execution_count": 4,
   "metadata": {},
   "outputs": [],
   "source": [
    "file_path = 'C:/Users/kasun/Desktop/Data Analytics/Project 03 Tableau/Data-Visualization-Dashboards-with-Tableau/files/death_cause_dataset.csv'\n",
    "death_cause_df = pd.read_csv(file_path)"
   ]
  },
  {
   "cell_type": "code",
   "execution_count": 5,
   "metadata": {},
   "outputs": [
    {
     "name": "stdout",
     "output_type": "stream",
     "text": [
      "False\n"
     ]
    }
   ],
   "source": [
    "#check the duplicate rows\n",
    "death_cause_has_duplicates = death_cause_df.duplicated().any()\n",
    "\n",
    "print(death_cause_has_duplicates)\n",
    "\n",
    "#if answer is true, that means there are duplicate rows"
   ]
  },
  {
   "cell_type": "code",
   "execution_count": 6,
   "metadata": {},
   "outputs": [
    {
     "name": "stdout",
     "output_type": "stream",
     "text": [
      "Entity                                                                                         0\n",
      "Code                                                                                        2048\n",
      "Year                                                                                           0\n",
      "Number of executions (Amnesty International)                                                7987\n",
      "Deaths - Meningitis - Sex: Both - Age: All Ages (Number)                                     244\n",
      "Deaths - Neoplasms - Sex: Both - Age: All Ages (Number)                                      244\n",
      "Deaths - Fire, heat, and hot substances - Sex: Both - Age: All Ages (Number)                 244\n",
      "Deaths - Malaria - Sex: Both - Age: All Ages (Number)                                        244\n",
      "Deaths - Drowning - Sex: Both - Age: All Ages (Number)                                       244\n",
      "Deaths - Interpersonal violence - Sex: Both - Age: All Ages (Number)                         244\n",
      "Deaths - HIV/AIDS - Sex: Both - Age: All Ages (Number)                                       244\n",
      "Deaths - Drug use disorders - Sex: Both - Age: All Ages (Number)                             244\n",
      "Deaths - Tuberculosis - Sex: Both - Age: All Ages (Number)                                   244\n",
      "Deaths - Road injuries - Sex: Both - Age: All Ages (Number)                                  244\n",
      "Deaths - Maternal disorders - Sex: Both - Age: All Ages (Number)                             244\n",
      "Deaths - Lower respiratory infections - Sex: Both - Age: All Ages (Number)                   244\n",
      "Deaths - Neonatal disorders - Sex: Both - Age: All Ages (Number)                             244\n",
      "Deaths - Alcohol use disorders - Sex: Both - Age: All Ages (Number)                          244\n",
      "Deaths - Exposure to forces of nature - Sex: Both - Age: All Ages (Number)                   244\n",
      "Deaths - Diarrheal diseases - Sex: Both - Age: All Ages (Number)                             244\n",
      "Deaths - Environmental heat and cold exposure - Sex: Both - Age: All Ages (Number)           244\n",
      "Deaths - Nutritional deficiencies - Sex: Both - Age: All Ages (Number)                       244\n",
      "Deaths - Self-harm - Sex: Both - Age: All Ages (Number)                                      244\n",
      "Deaths - Conflict and terrorism - Sex: Both - Age: All Ages (Number)                         244\n",
      "Deaths - Diabetes mellitus - Sex: Both - Age: All Ages (Number)                              244\n",
      "Deaths - Poisonings - Sex: Both - Age: All Ages (Number)                                     244\n",
      "Deaths - Protein-energy malnutrition - Sex: Both - Age: All Ages (Number)                    244\n",
      "Terrorism (deaths)                                                                          5363\n",
      "Deaths - Cardiovascular diseases - Sex: Both - Age: All Ages (Number)                        244\n",
      "Deaths - Chronic kidney disease - Sex: Both - Age: All Ages (Number)                         244\n",
      "Deaths - Chronic respiratory diseases - Sex: Both - Age: All Ages (Number)                   244\n",
      "Deaths - Cirrhosis and other chronic liver diseases - Sex: Both - Age: All Ages (Number)     244\n",
      "Deaths - Digestive diseases - Sex: Both - Age: All Ages (Number)                             244\n",
      "Deaths - Acute hepatitis - Sex: Both - Age: All Ages (Number)                                244\n",
      "Deaths - Alzheimer's disease and other dementias - Sex: Both - Age: All Ages (Number)        244\n",
      "Deaths - Parkinson's disease - Sex: Both - Age: All Ages (Number)                            244\n",
      "dtype: int64\n"
     ]
    }
   ],
   "source": [
    "#calculate the null values for each row\n",
    "print(death_cause_df.isnull().sum())"
   ]
  },
  {
   "cell_type": "code",
   "execution_count": 7,
   "metadata": {},
   "outputs": [],
   "source": [
    "#save above result in a text file to explore more details\n",
    "null_values = death_cause_df.isnull().sum()\n",
    "\n",
    "with open('null_values_report.txt', 'w') as f:\n",
    "    f.write(null_values.to_string())\n"
   ]
  },
  {
   "cell_type": "code",
   "execution_count": 38,
   "metadata": {},
   "outputs": [],
   "source": [
    "#define column that need to remove (not required for the visualization)\n",
    "columns_to_remove = ['Number of executions (Amnesty International)']\n",
    "\n",
    "# Remove the defined column\n",
    "df_cleaned1 = death_cause_df.drop(columns=columns_to_remove)\n",
    "\n",
    "# Save the cleaned DataFrame to a new CSV file\n",
    "df_cleaned1.to_excel('death_cause_column_removed.xlsx', index=False)"
   ]
  },
  {
   "cell_type": "code",
   "execution_count": 40,
   "metadata": {},
   "outputs": [],
   "source": [
    "#add zero '0' to empty values of the columns except Code\n",
    "file_path2 = 'C:/Users/kasun/Desktop/Data Analytics/Project 03 Tableau/Data-Visualization-Dashboards-with-Tableau/files/death_cause_column_removed.xlsx'\n",
    "death_cause_df2 = pd.read_excel(file_path2)\n",
    "\n",
    "# Replace empty values (NaN) with zero\n",
    "df_filled1 = death_cause_df2.apply(lambda x: x.fillna(0) if x.name != 'Code' else x)\n",
    "\n",
    "# Save the modified dataset as a new file\n",
    "df_filled1.to_excel('death_cause_add_zero_to_nulls.xlsx', index=False)"
   ]
  },
  {
   "cell_type": "code",
   "execution_count": 55,
   "metadata": {},
   "outputs": [
    {
     "name": "stdout",
     "output_type": "stream",
     "text": [
      "True\n"
     ]
    }
   ],
   "source": [
    "# Check if there are any rows where all column values are zero except Entity, Code and Year columns\n",
    "\n",
    "file_path3 = 'C:/Users/kasun/Desktop/Data Analytics/Project 03 Tableau/Data-Visualization-Dashboards-with-Tableau/files/death_cause_add_zero_to_nulls.xlsx'\n",
    "death_cause_df3 = pd.read_excel(file_path3)\n",
    "\n",
    "# Select columns excluding 'Entity' and 'Year' for checking zero values\n",
    "columns_to_check1 = death_cause_df3.columns[3:]\n",
    "\n",
    "# Remove rows where all values except 'Entity', 'Code' and 'Year' are zero\n",
    "has_zero_rows1 = (death_cause_df3[columns_to_check1] == 0).all(axis=1).any()\n",
    "\n",
    "print(has_zero_rows1)"
   ]
  },
  {
   "cell_type": "code",
   "execution_count": 44,
   "metadata": {},
   "outputs": [],
   "source": [
    "#remove rows with zero values for all column values\n",
    "\n",
    "# Remove rows where all values except 'Entity' and 'Year' are zero\n",
    "df_cleaned2 = death_cause_df3[(death_cause_df3[columns_to_check1] != 0).any(axis=1)]\n",
    "\n",
    "# Save the modified dataset as a new Excel file\n",
    "df_cleaned2.to_excel('death_cause_final_version.xlsx', index=False)"
   ]
  },
  {
   "cell_type": "code",
   "execution_count": 53,
   "metadata": {},
   "outputs": [
    {
     "name": "stdout",
     "output_type": "stream",
     "text": [
      "False\n"
     ]
    }
   ],
   "source": [
    "#check whether final version of dataset has rows with zero values for all columns except Entity, Code  and Year columns\n",
    "\n",
    "file_path4 = 'C:/Users/kasun/Desktop/Data Analytics/Project 03 Tableau/Data-Visualization-Dashboards-with-Tableau/files/death_cause_final_version.xlsx'\n",
    "death_cause_df4 = pd.read_excel(file_path4)\n",
    "\n",
    "columns_to_check3 = death_cause_df4.columns[3:]\n",
    "\n",
    "has_zero_rows2 = (death_cause_df4[columns_to_check3] == 0).all(axis=1).any()\n",
    "\n",
    "print(has_zero_rows2)"
   ]
  }
 ],
 "metadata": {
  "kernelspec": {
   "display_name": "Python 3",
   "language": "python",
   "name": "python3"
  },
  "language_info": {
   "codemirror_mode": {
    "name": "ipython",
    "version": 3
   },
   "file_extension": ".py",
   "mimetype": "text/x-python",
   "name": "python",
   "nbconvert_exporter": "python",
   "pygments_lexer": "ipython3",
   "version": "3.11.9"
  }
 },
 "nbformat": 4,
 "nbformat_minor": 2
}
